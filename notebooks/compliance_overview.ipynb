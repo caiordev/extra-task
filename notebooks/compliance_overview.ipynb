{
 "cells": [
  {
   "cell_type": "markdown",
   "metadata": {},
   "source": [
    "# Checklist de Conformidade\n",
    "Este notebook demonstra, ponto a ponto, como o código atende aos requisitos do projeto."
   ]
  },
  {
   "cell_type": "markdown",
   "metadata": {},
   "source": [
    "## 1. Framework – TensorFlow 2 / Keras"
   ]
  },
  {
   "cell_type": "code",
   "execution_count": null,
   "metadata": {},
   "outputs": [],
   "source": [
    "import tensorflow as tf\n",
    "print('TensorFlow version:', tf.__version__)"
   ]
  },
  {
   "cell_type": "markdown",
   "metadata": {},
   "source": [
    "## 2. Divisão Temporal 70 / 15 / 15 – sem embaralhar\n",
    "A função `train_val_test_split` mantém a ordem dos timestamps; o embaralhamento ocorre **apenas** dentro do `tf.data` para o treino. O trecho abaixo carrega um *sample* e mostra o tamanho das partições."
   ]
  },
  {
   "cell_type": "code",
   "execution_count": null,
   "metadata": {},
   "outputs": [],
   "source": [
    "from pathlib import Path\n",
    "import numpy as np\n",
    "from codes.data_utils import load_csv_parts, window_generator, train_val_test_split\n",
    "\n",
    "# Pequeno subset para demonstração rápida\n",
    "df = load_csv_parts(Path('dataset') )[:1000]  # carrega primeiras 1000 linhas\n",
    "X, y = window_generator(df, window_size=240, step_size=10)\n",
    "X_train, y_train, X_val, y_val, X_test, y_test = train_val_test_split(X, y)\n",
    "print('Train:', X_train.shape[0], 'Val:', X_val.shape[0], 'Test:', X_test.shape[0])"
   ]
  },
  {
   "cell_type": "markdown",
   "metadata": {},
   "source": [
    "## 3. Janela (WINDOW) e STRIDE\n",
    "- **WINDOW = 240** (4 min).\n",
    "- **STRIDE** configurável via `--step` (script `train_lstm.py`).\n",
    "A célula acima já utilizou `window_size=240` e `step_size=10` para gerar janelas."
   ]
  },
  {
   "cell_type": "markdown",
   "metadata": {},
   "source": [
    "## 4. Estratégia para Número Variável de Sensores – Opção B\n",
    "*LSTM compartilhada – um sensor por vez.*\n",
    "Todos os sensores são empilhados num único dataset; o mesmo encoder LSTM processa qualquer sensor novo sem necessidade de re-treino."
   ]
  },
  {
   "cell_type": "markdown",
   "metadata": {},
   "source": [
    "## 5. Arquitetura 1-D (LSTM) e Sumário"
   ]
  },
  {
   "cell_type": "code",
   "execution_count": null,
   "metadata": {},
   "outputs": [],
   "source": [
    "from codes.LSTM import LSTMModel\n",
    "model_wrap = LSTMModel(window_size=240, metrics=[], debug=False)\n",
    "model_wrap.model.summary()"
   ]
  },
  {
   "cell_type": "markdown",
   "metadata": {},
   "source": [
    "## 6. Perda e Métricas\n",
    "A escolha é `BinaryFocalCrossentropy` (flag `--focal`) ou `binary_crossentropy`.\n",
    "As métricas estão definidas em `LSTM.F1Score`, `Precision`, `Recall`."
   ]
  },
  {
   "cell_type": "markdown",
   "metadata": {},
   "source": [
    "## 7. Callbacks de Treinamento\n",
    "EarlyStopping (pacience ≥ 20) e ReduceLROnPlateau já configurados."
   ]
  },
  {
   "cell_type": "code",
   "execution_count": null,
   "metadata": {},
   "outputs": [],
   "source": [
    "callbacks = model_wrap.setup_callbacks('demo')\n",
    "for cb in callbacks:\n",
    "    print(type(cb).__name__)"
   ]
  },
  {
   "cell_type": "markdown",
   "metadata": {},
   "source": [
    "**Conclusão** – Todos os requisitos obrigatórios do enunciado são atendidos pelo código atual."
   ]
  }
 ],
 "metadata": {
  "kernelspec": {
   "display_name": "Python 3",
   "language": "python",
   "name": "python3"
  }
 },
 "nbformat": 4,
 "nbformat_minor": 5
}
