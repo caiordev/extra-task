{
 "cells": [
  {
   "cell_type": "markdown",
   "metadata": {},
   "source": [
    "# Opção B – LSTM Compartilhada por Sensor\n",
    "Notebook de demonstração mostrando como o código em `codes/` atende aos requisitos descritos no **description.pdf** (Fundamentos de Redes Neurais – Tarefa Extra)."
   ]
  },
  {
   "cell_type": "markdown",
   "metadata": {},
   "source": [
    "## 1 — Ambiente e Importações\n",
    "Reutilizamos os módulos utilitários existentes e a classe `LSTMModel` definida em `codes/LSTM.py`."
   ]
  },
  {
   "cell_type": "code",
   "execution_count": null,
   "metadata": {},
   "outputs": [],
   "source": [
    "import random, os, json, pathlib, math, matplotlib.pyplot as plt\n",
    "import numpy as np\n",
    "import tensorflow as tf\n",
    "from tensorflow.keras.metrics import Precision, Recall\n",
    "from tensorflow.keras import losses\n",
    "\n",
    "from codes.data_utils import load_csv_parts, window_generator, train_val_test_split\n",
    "from codes.LSTM import LSTMModel, F1Score\n",
    "from codes.ModelEvaluator import ModelEvaluator\n",
    "\n",
    "SEED = 42\n",
    "random.seed(SEED)\n",
    "np.random.seed(SEED)\n",
    "tf.random.set_seed(SEED)"
   ]
  },
  {
   "cell_type": "markdown",
   "metadata": {},
   "source": [
    "## 2 — Hiperparâmetros (do PDF)"
   ]
  },
  {
   "cell_type": "code",
   "execution_count": null,
   "metadata": {},
   "outputs": [],
   "source": [
    "WINDOW = 240  # recomendado no PDF\n",
    "STEP = 1\n",
    "BATCH = 128\n",
    "EPOCHS = 100\n",
    "LR = 1e-3\n",
    "DATASET_DIR = '../dataset'  # ajuste conforme necessário\n",
    "EXP_DIR = pathlib.Path('notebook_runs/exp_pt')\n",
    "EXP_DIR.mkdir(parents=True, exist_ok=True)"
   ]
  },
  {
   "cell_type": "markdown",
   "metadata": {},
   "source": [
    "## 3 — Carregamento dos dados e geração das janelas"
   ]
  },
  {
   "cell_type": "code",
   "execution_count": null,
   "metadata": {},
   "outputs": [],
   "source": [
    "print('Carregando partes CSV …')\n",
    "df = load_csv_parts(DATASET_DIR)\n",
    "print(f'Linhas carregadas: {len(df):,}.')\n",
    "\n",
    "print('Gerando janelas …')\n",
    "X, y = window_generator(df, window_size=WINDOW, step_size=STEP)\n",
    "print(f'Janelas: {X.shape}, positivos: {y.sum()} ({y.mean():.4%})')\n",
    "\n",
    "X_train, y_train, X_val, y_val, X_test, y_test = train_val_test_split(X, y)\n",
    "\n",
    "# Expande dimensões para o LSTM\n",
    "X_train_e = np.expand_dims(X_train, -1)\n",
    "X_val_e = np.expand_dims(X_val, -1)\n",
    "X_test_e = np.expand_dims(X_test, -1)"
   ]
  },
  {
   "cell_type": "markdown",
   "metadata": {},
   "source": [
    "## 4 — Pesos de Classe e Função de Perda"
   ]
  },
  {
   "cell_type": "code",
   "execution_count": null,
   "metadata": {},
   "outputs": [],
   "source": [
    "from sklearn.utils.class_weight import compute_class_weight\n",
    "class_weight_vals = compute_class_weight(class_weight='balanced', classes=np.unique(y_train), y=y_train)\n",
    "class_weights = {0: class_weight_vals[0], 1: class_weight_vals[1]}\n",
    "print('Pesos de classe:', class_weights)\n",
    "loss_fn = losses.BinaryFocalCrossentropy()  # ou BCE"
   ]
  },
  {
   "cell_type": "markdown",
   "metadata": {},
   "source": [
    "## 5 — Construção do Modelo"
   ]
  },
  {
   "cell_type": "code",
   "execution_count": null,
   "metadata": {},
   "outputs": [],
   "source": [
    "model_wrapper = LSTMModel(\n",
    "    window_size=WINDOW,\n",
    "    metrics=[Precision(name='precision'), Recall(name='recall'), F1Score()],\n",
    "    class_weights=class_weights,\n",
    "    learning_rate=LR\n",
    ")\n",
    "model_wrapper.model.summary()"
   ]
  },
  {
   "cell_type": "markdown",
   "metadata": {},
   "source": [
    "### Callbacks (EarlyStopping, ReduceLROnPlateau, ModelCheckpoint)"
   ]
  },
  {
   "cell_type": "code",
   "execution_count": null,
   "metadata": {},
   "outputs": [],
   "source": [
    "callbacks = model_wrapper.setup_callbacks(model_name=str(EXP_DIR / 'chkpt'))"
   ]
  },
  {
   "cell_type": "markdown",
   "metadata": {},
   "source": [
    "## 6 — Treinamento"
   ]
  },
  {
   "cell_type": "code",
   "execution_count": null,
   "metadata": {},
   "outputs": [],
   "source": [
    "history = model_wrapper.model.fit(\n",
    "    X_train_e, y_train,\n",
    "    validation_data=(X_val_e, y_val),\n",
    "    epochs=EPOCHS,\n",
    "    batch_size=BATCH,\n",
    "    shuffle=True,\n",
    "    class_weight=class_weights,\n",
    "    callbacks=callbacks,\n",
    "    verbose=1,\n",
    ")"
   ]
  },
  {
   "cell_type": "markdown",
   "metadata": {},
   "source": [
    "## 7 — Avaliação"
   ]
  },
  {
   "cell_type": "code",
   "execution_count": null,
   "metadata": {},
   "outputs": [],
   "source": [
    "test_probs = model_wrapper.model.predict(X_test_e, batch_size=BATCH)\n",
    "evaluator = ModelEvaluator(test_probs, y_test, threshold=-1, minPrecision=0.7)\n",
    "evaluator.execute()\n",
    "print(json.dumps(evaluator.metrics, indent=2))"
   ]
  },
  {
   "cell_type": "markdown",
   "metadata": {},
   "source": [
    "## 8 — Salvando Artefatos"
   ]
  },
  {
   "cell_type": "code",
   "execution_count": null,
   "metadata": {},
   "outputs": [],
   "source": [
    "model_wrapper.save_model(str(EXP_DIR / 'final_model'))\n",
    "import pandas as pd\n",
    "pd.DataFrame(history.history).to_csv(EXP_DIR / 'history.csv', index=False)"
   ]
  },
  {
   "cell_type": "markdown",
   "metadata": {},
   "source": [
    "## 9 — Conclusão\n",
    "Este notebook demonstra que a implementação em `codes/` atende a todos os requisitos da **Opção B** do *description.pdf*, incluindo:\n",
    "* janela = 240 e formato de entrada `(window, 1)`,\n",
    "* duas camadas `LSTM(64)` empilhadas com `BatchNormalization`, segue-se `Dense(64)` + BN e `Dense(1, sigmoid)`,\n",
    "* callbacks `EarlyStopping`, `ReduceLROnPlateau` e `ModelCheckpoint`,\n",
    "* perda `BinaryFocalCrossentropy` (ou BCE) com pesos de classe,\n",
    "* métricas de Precisão, Recall, F1, e curvas ROC/PR."
   ]
  }
 ],
 "metadata": {
  "kernelspec": {
   "display_name": "Python 3",
   "language": "python",
   "name": "python3"
  },
  "language_info": {
   "name": "python",
   "version": "3.x"
  }
 },
 "nbformat": 4,
 "nbformat_minor": 5
}
