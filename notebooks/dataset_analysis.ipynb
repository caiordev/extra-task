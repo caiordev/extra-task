{
 "cells": [
  {
   "cell_type": "markdown",
   "metadata": {},
   "source": [
    "# Exploratory Data Analysis – Sensor Dataset"
   ]
  },
  {
   "cell_type": "markdown",
   "metadata": {},
   "source": [
    "Este notebook realiza uma análise exploratória (EDA) básica do dataset de sensores.\n",
    "\n",
    "Etapas abordadas:\n",
    "1. Carregamento e união dos arquivos CSV.\n",
    "2. Visualização inicial (shape, head).\n",
    "3. Tipos de dados e estatísticas descritivas.\n",
    "4. Valores ausentes.\n",
    "5. Distribuição da variável *label*.\n",
    "6. Correlações entre sensores.\n"
   ]
  },
  {
   "cell_type": "code",
   "execution_count": null,
   "metadata": {},
   "outputs": [],
   "source": [
    "# Pacotes\n",
    "import pandas as pd\n",
    "import numpy as np\n",
    "import matplotlib.pyplot as plt\n",
    "import seaborn as sns\n",
    "from pathlib import Path\n",
    "\n",
    "# Configurações de visualização\n",
    "plt.style.use('seaborn-v0_8')\n",
    "%matplotlib inline"
   ]
  },
  {
   "cell_type": "code",
   "execution_count": null,
   "metadata": {},
   "outputs": [],
   "source": [
    "# Diretório dos datasets\n",
    "data_dir = Path('dataset')\n",
    "\n",
    "# Lista de arquivos CSV\n",
    "csv_files = sorted(data_dir.glob('dataset_parte_*.csv'))\n",
    "print(f'Encontrados {len(csv_files)} arquivos.')\n",
    "\n",
    "# Carrega e concatena\n",
    "df_list = [pd.read_csv(f) for f in csv_files]\n",
    "df = pd.concat(df_list, ignore_index=True)\n",
    "print('Shape total:', df.shape)"
   ]
  },
  {
   "cell_type": "code",
   "execution_count": null,
   "metadata": {},
   "outputs": [],
   "source": [
    "df.head()"
   ]
  },
  {
   "cell_type": "code",
   "execution_count": null,
   "metadata": {},
   "outputs": [],
   "source": [
    "df.info()"
   ]
  },
  {
   "cell_type": "code",
   "execution_count": null,
   "metadata": {},
   "outputs": [],
   "source": [
    "df.describe().T.head(20)  # mostra primeiras 20 features para não poluir"
   ]
  },
  {
   "cell_type": "code",
   "execution_count": null,
   "metadata": {},
   "outputs": [],
   "source": [
    "# Verifica valores ausentes\n",
    "missing = df.isna().sum().sort_values(ascending=False)\n",
    "missing[missing > 0]"
   ]
  },
  {
   "cell_type": "code",
   "execution_count": null,
   "metadata": {},
   "outputs": [],
   "source": [
    "# Distribuição da variável label\n",
    "plt.figure(figsize=(6,4))\n",
    "sns.countplot(y=df['label'], order=df['label'].value_counts().index)\n",
    "plt.title('Distribuição da variável label')\n",
    "plt.xlabel('Contagem')\n",
    "plt.ylabel('Label')\n",
    "plt.show()"
   ]
  },
  {
   "cell_type": "code",
   "execution_count": null,
   "metadata": {},
   "outputs": [],
   "source": [
    "# Correlação\n",
    "numeric_cols = [c for c in df.columns if c.startswith('sensor_')]\n",
    "corr = df[numeric_cols].corr()\n",
    "\n",
    "plt.figure(figsize=(12,10))\n",
    "sns.heatmap(corr, cmap='coolwarm', center=0, vmax=1, vmin=-1, square=True, cbar_kws={'shrink': .6})\n",
    "plt.title('Matriz de Correlação dos Sensores')\n",
    "plt.show()"
   ]
  },
  {
   "cell_type": "markdown",
   "metadata": {},
   "source": [
    "## Conclusões\n",
    "Preencha aqui possíveis insights obtidos a partir da análise."
   ]
  }
 ],
 "metadata": {
  "kernelspec": {
   "display_name": "Python 3 (ipykernel)",
   "language": "python",
   "name": "python3"
  },
  "language_info": {
   "name": "python",
   "version": "3.10"
  }
 },
 "nbformat": 4,
 "nbformat_minor": 5
}
