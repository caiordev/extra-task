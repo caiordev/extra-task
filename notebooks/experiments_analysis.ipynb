{
 "cells": [
  {
   "cell_type": "markdown",
   "metadata": {},
   "source": [
    "# Análise de Resultados – Diretório `experiments/`\n",
    "Este notebook coleta todas as execuções salvas em `experiments/run_*` e explica por que as métricas ficaram tão baixas."
   ]
  },
  {
   "cell_type": "code",
   "execution_count": null,
   "id": "738e1453",
   "metadata": {},
   "outputs": [],
   "source": [
    "# --- preparar path para importar 'codes.*' ---\n",
    "import sys, os\n",
    "from pathlib import Path\n",
    "proj_root = Path('..').resolve()   # pasta que contém a pasta 'codes'\n",
    "if str(proj_root) not in sys.path:\n",
    "    sys.path.append(str(proj_root))\n",
    "# ---------------------------------------------"
   ]
  },
  {
   "cell_type": "markdown",
   "metadata": {},
   "source": [
    "## 1. Carregar métricas e históricos"
   ]
  },
  {
   "cell_type": "code",
   "execution_count": 12,
   "metadata": {},
   "outputs": [
    {
     "name": "stdout",
     "output_type": "stream",
     "text": [
      "Experimentos encontrados: 3\n"
     ]
    },
    {
     "data": {
      "image/png": "[encoded data removed]",
      "text/plain": [
       "<Figure size 600x300 with 1 Axes>"
      ]
     },
     "metadata": {},
     "output_type": "display_data"
    },
    {
     "data": {
      "text/html": [
       "<div>\n",
       "<style scoped>\n",
       "    .dataframe tbody tr th:only-of-type {\n",
       "        vertical-align: middle;\n",
       "    }\n",
       "\n",
       "    .dataframe tbody tr th {\n",
       "        vertical-align: top;\n",
       "    }\n",
       "\n",
       "    .dataframe thead th {\n",
       "        text-align: right;\n",
       "    }\n",
       "</style>\n",
       "<table border=\"1\" class=\"dataframe\">\n",
       "  <thead>\n",
       "    <tr style=\"text-align: right;\">\n",
       "      <th></th>\n",
       "      <th>Precision</th>\n",
       "      <th>Recall</th>\n",
       "      <th>F1-Score</th>\n",
       "      <th>Threshold</th>\n",
       "    </tr>\n",
       "    <tr>\n",
       "      <th>run</th>\n",
       "      <th></th>\n",
       "      <th></th>\n",
       "      <th></th>\n",
       "      <th></th>\n",
       "    </tr>\n",
       "  </thead>\n",
       "  <tbody>\n",
       "    <tr>\n",
       "      <th>run_fixed</th>\n",
       "      <td>0.0</td>\n",
       "      <td>0.0</td>\n",
       "      <td>0.0</td>\n",
       "      <td>3.132664e-07</td>\n",
       "    </tr>\n",
       "    <tr>\n",
       "      <th>run_step10</th>\n",
       "      <td>0.0</td>\n",
       "      <td>0.0</td>\n",
       "      <td>0.0</td>\n",
       "      <td>3.348938e-06</td>\n",
       "    </tr>\n",
       "  </tbody>\n",
       "</table>\n",
       "</div>"
      ],
      "text/plain": [
       "            Precision  Recall  F1-Score     Threshold\n",
       "run                                                  \n",
       "run_fixed         0.0     0.0       0.0  3.132664e-07\n",
       "run_step10        0.0     0.0       0.0  3.348938e-06"
      ]
     },
     "execution_count": 12,
     "metadata": {},
     "output_type": "execute_result"
    }
   ],
   "source": [
    "from pathlib import Path, PurePath\n",
    "import json, pandas as pd, matplotlib.pyplot as plt\n",
    "\n",
    "exp_root = Path('..') / 'experiments'\n",
    "run_dirs = sorted([d for d in exp_root.glob('run_*') if d.is_dir()])\n",
    "print('Experimentos encontrados:', len(run_dirs))\n",
    "all_metrics = []\n",
    "for rd in run_dirs:\n",
    "    metrics_path = rd / 'metrics.json'\n",
    "    hist_path = rd / 'history.csv'\n",
    "    if metrics_path.exists():\n",
    "        with open(metrics_path) as f: \n",
    "            m = json.load(f)\n",
    "        m['run'] = rd.name\n",
    "        all_metrics.append(m)\n",
    "    if hist_path.exists():\n",
    "        hist = pd.read_csv(hist_path)\n",
    "        epochs = hist.index          # 0, 1, 2, …\n",
    "\n",
    "        plt.figure(figsize=(6,3))\n",
    "        if 'precision' in hist: plt.plot(epochs, hist['precision'], label='precision')\n",
    "        if 'recall'    in hist: plt.plot(epochs, hist['recall'],    label='recall')\n",
    "        if 'f1_score'  in hist: plt.plot(epochs, hist['f1_score'],  label='f1')\n",
    "        plt.title(f'{rd.name} – métricas durante treino')\n",
    "        plt.xlabel('epoch'); plt.legend(); plt.show()\n",
    "\n",
    "metric_df = pd.DataFrame(all_metrics).set_index('run')\n",
    "metric_df"
   ]
  },
  {
   "cell_type": "markdown",
   "metadata": {},
   "source": [
    "## 2. Verificar desequilíbrio de classes nos splits"
   ]
  },
  {
   "cell_type": "code",
   "execution_count": 8,
   "metadata": {},
   "outputs": [
    {
     "data": {
      "text/plain": [
       "train_pos          2\n",
       "train_neg    1436518\n",
       "val_pos            1\n",
       "val_neg       307824\n",
       "test_pos           0\n",
       "test_neg      307827\n",
       "dtype: int64"
      ]
     },
     "execution_count": 8,
     "metadata": {},
     "output_type": "execute_result"
    }
   ],
   "source": [
    "import numpy as np, seaborn as sns\n",
    "from pathlib import Path\n",
    "from codes.data_utils import load_csv_parts, window_generator, train_val_test_split\n",
    "\n",
    "df = load_csv_parts(Path('..') / 'dataset')\n",
    "step = 10 if any('step10' in d.name for d in run_dirs) else 1\n",
    "X, y = window_generator(df, window_size=240, step_size=step)\n",
    "_, y_train, _, y_val, _, y_test = train_val_test_split(X, y)\n",
    "\n",
    "import pandas as pd\n",
    "counts = pd.Series({\n",
    "    'train_pos': y_train.sum(), 'train_neg': len(y_train) - y_train.sum(),\n",
    "    'val_pos': y_val.sum(),   'val_neg': len(y_val) - y_val.sum(),\n",
    "    'test_pos': y_test.sum(), 'test_neg': len(y_test) - y_test.sum()\n",
    "})\n",
    "counts"
   ]
  },
  {
   "cell_type": "markdown",
   "metadata": {},
   "source": [
    "## 3. Principais causas para métricas ruins\n",
    "* **Desequilíbrio extremo** – há menos de 0.005 % de amostras positivas. Nos splits de validação e teste pode não existir nenhum positivo → métricas ficam 0.\n",
    "* **Threshold inadequado** – muitos experimentos usaram limiar 0.5 ou muito baixo sem aplicá-lo corretamente, resultando em *all-negative* previsões.\n",
    "* **F1 interno ≠ F1 externo** – durante o treino o `F1Score` usa threshold 0.1, mas a avaliação final pode ter usado outro, gerando divergência.\n",
    "* **Pouco sinal por janela** – com `STEP=10`, apenas 3 positivos em mais de 2 M janelas; o modelo aprende a prever sempre 0.\n",
    "\n",
    "### Evidências gráficas\n",
    "- Curvas acima mostram **precision ~0, recall~0** por várias épocas.\n",
    "- Tabela de métricas confirma F1 ≈ 0.00.\n",
    "- Contagem de positivos por split evidencia ausência de rótulos em Val/Test."
   ]
  }
 ],
 "metadata": {
  "kernelspec": {
   "display_name": "venv",
   "language": "python",
   "name": "python3"
  },
  "language_info": {
   "codemirror_mode": {
    "name": "ipython",
    "version": 3
   },
   "file_extension": ".py",
   "mimetype": "text/x-python",
   "name": "python",
   "nbconvert_exporter": "python",
   "pygments_lexer": "ipython3",
   "version": "3.12.3"
  }
 },
 "nbformat": 4,
 "nbformat_minor": 5
}
